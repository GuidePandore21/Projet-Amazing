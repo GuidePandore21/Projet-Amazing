{
 "cells": [
  {
   "cell_type": "code",
   "execution_count": null,
   "metadata": {},
   "outputs": [],
   "source": [
    "import pandas as pd\n",
    "\n",
    "# Charger le fichier CSV\n",
    "data = pd.read_csv(\"./Data/Echantillon.csv\", delimiter=\",\")"
   ]
  },
  {
   "cell_type": "code",
   "execution_count": null,
   "metadata": {},
   "outputs": [
    {
     "name": "stdout",
     "output_type": "stream",
     "text": [
      "event_time        object\n",
      "event_type        object\n",
      "product_id         int64\n",
      "category_id        int64\n",
      "category_code     object\n",
      "brand             object\n",
      "price            float64\n",
      "user_id            int64\n",
      "user_session      object\n",
      "dtype: object\n"
     ]
    }
   ],
   "source": [
    "# Afficher les types de variables du DataFrame\n",
    "print(data.dtypes)"
   ]
  },
  {
   "cell_type": "code",
   "execution_count": null,
   "metadata": {},
   "outputs": [
    {
     "name": "stdout",
     "output_type": "stream",
     "text": [
      "event_time       datetime64[ns, UTC]\n",
      "event_type                    object\n",
      "product_id                     int64\n",
      "category_id                    int64\n",
      "category_code                 object\n",
      "brand                         object\n",
      "price                        float64\n",
      "user_id                        int64\n",
      "user_session                  object\n",
      "dtype: object\n",
      "                 event_time event_type  product_id          category_id  \\\n",
      "0 2019-10-01 00:00:00+00:00       view    44600062  2103807459595387724   \n",
      "1 2019-10-01 00:00:00+00:00       view     3900821  2053013552326770905   \n",
      "2 2019-10-01 00:00:00+00:00       view    17200506  2053013559792632471   \n",
      "3 2019-10-01 00:00:00+00:00       view     1307067  2053013558920217191   \n",
      "4 2019-10-01 00:00:00+00:00       view     1004237  2053013555631882655   \n",
      "\n",
      "                         category_code     brand    price    user_id  \\\n",
      "0                                  NaN  shiseido    35.79  541312140   \n",
      "1  appliances.environment.water_heater      aqua    33.20  554748717   \n",
      "2           furniture.living_room.sofa       NaN   543.10  519107250   \n",
      "3                   computers.notebook    lenovo   251.74  550050854   \n",
      "4               electronics.smartphone     apple  1081.98  535871217   \n",
      "\n",
      "                           user_session  \n",
      "0  72d76fde-8bb3-4e00-8c23-a032dfed738c  \n",
      "1  9333dfbd-b87a-4708-9857-6336556b0fcc  \n",
      "2  566511c2-e2e3-422b-b695-cf8e6e792ca8  \n",
      "3  7c90fc70-0e80-4590-96f3-13c02c18c713  \n",
      "4  c6bd7419-2748-4c56-95b4-8cec9ff8b80d  \n"
     ]
    }
   ],
   "source": [
    "# Convertir la colonne 'event_time' au format datetime\n",
    "data['event_time'] = pd.to_datetime(data['event_time'])\n",
    "\n",
    "# Pour afficher uniquement la date lors de l'affichage\n",
    "data['event_time'] = data['event_time'].dt.normalize()  # Cela garde le type datetime sans heures\n",
    "\n",
    "# Vérifier les données\n",
    "print(data.dtypes)\n",
    "print(data.head())"
   ]
  }
 ],
 "metadata": {
  "language_info": {
   "name": "python"
  }
 },
 "nbformat": 4,
 "nbformat_minor": 2
}
