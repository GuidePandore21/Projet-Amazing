{
 "cells": [
  {
   "cell_type": "code",
   "execution_count": 2,
   "metadata": {},
   "outputs": [],
   "source": [
    "import pandas as pd "
   ]
  },
  {
   "cell_type": "code",
   "execution_count": 3,
   "metadata": {},
   "outputs": [],
   "source": [
    "already_processed = ['2019-Nov.csv.gz', '2019-Oct.csv.gz']\n",
    "# list_files = ['2019-Nov.csv.gz', '2019-Oct.csv.gz', '2019-Dec.csv.gz', '2020-Jan.csv.gz', '2020-Feb.csv.gz', '2020-Mar.csv.gz']\n",
    "list_files = ['2019-Nov.csv.gz', '2019-Oct.csv.gz']\n",
    "#stratégie leave one out (fichier d'avril 2020), on laisse un fichier à part qui servira à réaliser les tests d'intégration d'un nouveau fichier dans la base\n",
    "for file in already_processed:\n",
    "    while file in list_files:\n",
    "        list_files.remove(file)\n"
   ]
  },
  {
   "cell_type": "code",
   "execution_count": 4,
   "metadata": {},
   "outputs": [
    {
     "name": "stdout",
     "output_type": "stream",
     "text": [
      "2019-Nov.csv.gz - 17817 rows processed.\n",
      "2019-Nov.csv.gz - 14244 rows processed.\n",
      "2019-Nov.csv.gz - 12254 rows processed.\n",
      "2019-Nov.csv.gz - 16109 rows processed.\n",
      "2019-Nov.csv.gz - 13354 rows processed.\n",
      "2019-Nov.csv.gz - 16021 rows processed.\n",
      "2019-Nov.csv.gz - 15043 rows processed.\n",
      "2019-Nov.csv.gz - 12460 rows processed.\n",
      "2019-Nov.csv.gz - 17933 rows processed.\n",
      "2019-Nov.csv.gz - 11870 rows processed.\n",
      "2019-Nov.csv.gz - 15810 rows processed.\n",
      "2019-Nov.csv.gz - 12534 rows processed.\n",
      "2019-Nov.csv.gz - 14209 rows processed.\n",
      "2019-Nov.csv.gz - 12314 rows processed.\n",
      "2019-Nov.csv.gz - 12005 rows processed.\n",
      "2019-Nov.csv.gz - 12364 rows processed.\n",
      "2019-Nov.csv.gz - 10934 rows processed.\n",
      "2019-Nov.csv.gz - 13532 rows processed.\n",
      "2019-Nov.csv.gz - 11346 rows processed.\n",
      "2019-Nov.csv.gz - 12474 rows processed.\n",
      "2019-Nov.csv.gz - 10394 rows processed.\n",
      "2019-Nov.csv.gz - 12033 rows processed.\n",
      "2019-Nov.csv.gz - 10405 rows processed.\n",
      "2019-Nov.csv.gz - 11027 rows processed.\n",
      "2019-Nov.csv.gz - 9855 rows processed.\n",
      "2019-Nov.csv.gz - 3760 rows processed.\n",
      "2019-Nov.csv.gz - 0 rows processed.\n",
      "2019-Nov.csv.gz - 0 rows processed.\n",
      "2019-Nov.csv.gz - 0 rows processed.\n",
      "2019-Nov.csv.gz - 0 rows processed.\n",
      "2019-Nov.csv.gz - 0 rows processed.\n",
      "2019-Nov.csv.gz - 0 rows processed.\n",
      "2019-Nov.csv.gz - 0 rows processed.\n",
      "2019-Nov.csv.gz - 0 rows processed.\n",
      "2019-Nov.csv.gz - 5131 rows processed.\n",
      "2019-Nov.csv.gz - 26936 rows processed.\n",
      "2019-Nov.csv.gz - 26707 rows processed.\n",
      "2019-Nov.csv.gz - 9473 rows processed.\n",
      "2019-Nov.csv.gz - 0 rows processed.\n",
      "2019-Nov.csv.gz - 14510 rows processed.\n",
      "2019-Nov.csv.gz - 31677 rows processed.\n",
      "2019-Nov.csv.gz - 35403 rows processed.\n",
      "2019-Nov.csv.gz - 31016 rows processed.\n",
      "2019-Nov.csv.gz - 29681 rows processed.\n",
      "2019-Nov.csv.gz - 30045 rows processed.\n",
      "2019-Nov.csv.gz - 20239 rows processed.\n",
      "2019-Nov.csv.gz - 15823 rows processed.\n",
      "2019-Nov.csv.gz - 13037 rows processed.\n",
      "2019-Nov.csv.gz - 14532 rows processed.\n",
      "2019-Nov.csv.gz - 15786 rows processed.\n",
      "2019-Nov.csv.gz - 12523 rows processed.\n",
      "2019-Nov.csv.gz - 17599 rows processed.\n",
      "2019-Nov.csv.gz - 13388 rows processed.\n",
      "2019-Nov.csv.gz - 15717 rows processed.\n",
      "2019-Nov.csv.gz - 16225 rows processed.\n",
      "2019-Nov.csv.gz - 11949 rows processed.\n",
      "2019-Nov.csv.gz - 15491 rows processed.\n",
      "2019-Nov.csv.gz - 16179 rows processed.\n",
      "2019-Nov.csv.gz - 13246 rows processed.\n",
      "2019-Nov.csv.gz - 16976 rows processed.\n",
      "2019-Nov.csv.gz - 13809 rows processed.\n",
      "2019-Nov.csv.gz - 14535 rows processed.\n",
      "2019-Nov.csv.gz - 16108 rows processed.\n",
      "2019-Nov.csv.gz - 12078 rows processed.\n",
      "2019-Nov.csv.gz - 20737 rows processed.\n",
      "2019-Nov.csv.gz - 14165 rows processed.\n",
      "2019-Nov.csv.gz - 18238 rows processed.\n",
      "2019-Nov.csv.gz - 5879 rows processed.\n",
      "2019-Oct.csv.gz - 16848 rows processed.\n",
      "2019-Oct.csv.gz - 17029 rows processed.\n",
      "2019-Oct.csv.gz - 16925 rows processed.\n",
      "2019-Oct.csv.gz - 16841 rows processed.\n",
      "2019-Oct.csv.gz - 17678 rows processed.\n",
      "2019-Oct.csv.gz - 19572 rows processed.\n",
      "2019-Oct.csv.gz - 17733 rows processed.\n",
      "2019-Oct.csv.gz - 15945 rows processed.\n",
      "2019-Oct.csv.gz - 16600 rows processed.\n",
      "2019-Oct.csv.gz - 17655 rows processed.\n",
      "2019-Oct.csv.gz - 18572 rows processed.\n",
      "2019-Oct.csv.gz - 15859 rows processed.\n",
      "2019-Oct.csv.gz - 15707 rows processed.\n",
      "2019-Oct.csv.gz - 19241 rows processed.\n",
      "2019-Oct.csv.gz - 17623 rows processed.\n",
      "2019-Oct.csv.gz - 14708 rows processed.\n",
      "2019-Oct.csv.gz - 20386 rows processed.\n",
      "2019-Oct.csv.gz - 19118 rows processed.\n",
      "2019-Oct.csv.gz - 16967 rows processed.\n",
      "2019-Oct.csv.gz - 18693 rows processed.\n",
      "2019-Oct.csv.gz - 19139 rows processed.\n",
      "2019-Oct.csv.gz - 18852 rows processed.\n",
      "2019-Oct.csv.gz - 22916 rows processed.\n",
      "2019-Oct.csv.gz - 18526 rows processed.\n",
      "2019-Oct.csv.gz - 14447 rows processed.\n",
      "2019-Oct.csv.gz - 19107 rows processed.\n",
      "2019-Oct.csv.gz - 17079 rows processed.\n",
      "2019-Oct.csv.gz - 14485 rows processed.\n",
      "2019-Oct.csv.gz - 19632 rows processed.\n",
      "2019-Oct.csv.gz - 19458 rows processed.\n",
      "2019-Oct.csv.gz - 15921 rows processed.\n",
      "2019-Oct.csv.gz - 16982 rows processed.\n",
      "2019-Oct.csv.gz - 20169 rows processed.\n",
      "2019-Oct.csv.gz - 17466 rows processed.\n",
      "2019-Oct.csv.gz - 14433 rows processed.\n",
      "2019-Oct.csv.gz - 17242 rows processed.\n",
      "2019-Oct.csv.gz - 18796 rows processed.\n",
      "2019-Oct.csv.gz - 16359 rows processed.\n",
      "2019-Oct.csv.gz - 15060 rows processed.\n",
      "2019-Oct.csv.gz - 16210 rows processed.\n",
      "2019-Oct.csv.gz - 18337 rows processed.\n",
      "2019-Oct.csv.gz - 17357 rows processed.\n",
      "2019-Oct.csv.gz - 5176 rows processed.\n"
     ]
    }
   ],
   "source": [
    "filtered_chunks = []\n",
    "for file in list_files:\n",
    "    df = pd.read_csv(file, compression='gzip', chunksize=1000000)\n",
    "    for chunk in df:\n",
    "        chunk = chunk[chunk['event_type'] == 'purchase']\n",
    "        filtered_chunks.append(chunk)\n",
    "        print(f\"{file} - {chunk.shape[0]} rows processed.\")\n",
    "    print(f\"{file} has been processed\")\n",
    "    already_processed.append(file)"
   ]
  },
  {
   "cell_type": "code",
   "execution_count": 5,
   "metadata": {},
   "outputs": [
    {
     "name": "stdout",
     "output_type": "stream",
     "text": [
      "['2019-Nov.csv.gz', '2019-Oct.csv.gz']\n"
     ]
    }
   ],
   "source": [
    "print(already_processed)"
   ]
  },
  {
   "cell_type": "code",
   "execution_count": 6,
   "metadata": {},
   "outputs": [
    {
     "name": "stdout",
     "output_type": "stream",
     "text": [
      "(1659788, 9)\n"
     ]
    }
   ],
   "source": [
    "result = pd.concat(filtered_chunks)\n",
    "print(result.shape)\n",
    "# result.to_csv('processed_data.csv', header=True, index=False) uniquement si le fichier n'existe pas\n",
    "result.to_csv('processed_data.csv', header=False, index=False, mode=\"a\")"
   ]
  }
 ],
 "metadata": {
  "kernelspec": {
   "display_name": "Python 3",
   "language": "python",
   "name": "python3"
  },
  "language_info": {
   "codemirror_mode": {
    "name": "ipython",
    "version": 3
   },
   "file_extension": ".py",
   "mimetype": "text/x-python",
   "name": "python",
   "nbconvert_exporter": "python",
   "pygments_lexer": "ipython3",
   "version": "3.11.5"
  }
 },
 "nbformat": 4,
 "nbformat_minor": 2
}
